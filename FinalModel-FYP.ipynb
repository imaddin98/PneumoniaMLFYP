{
 "cells": [
  {
   "cell_type": "code",
   "execution_count": 417,
   "id": "21f1d22d",
   "metadata": {},
   "outputs": [],
   "source": [
    "# import necessary libraries\n",
    "import os\n",
    "import pandas as pd\n",
    "import numpy as np\n",
    "import matplotlib.pyplot as plt\n",
    "import seaborn as sns\n",
    "import cv2\n",
    "from tqdm import tqdm\n",
    "\n",
    "import sklearn\n",
    "import keras\n",
    "import tensorflow as tf\n",
    "from keras.models import Sequential\n",
    "from sklearn.preprocessing import OneHotEncoder, LabelBinarizer\n",
    "from keras.layers import Dense, Conv2D, MaxPool2D, Flatten, concatenate\n",
    "from keras.preprocessing.image import ImageDataGenerator\n",
    "from sklearn.model_selection import train_test_split\n",
    "from keras import optimizers\n",
    "from keras.applications.vgg16 import VGG16\n",
    "from sklearn.metrics import classification_report, confusion_matrix, accuracy_score\n",
    "from tensorflow.keras.applications import VGG16\n",
    "from tensorflow.keras.models import Model\n",
    "from tensorflow.keras.layers import Conv2D, GlobalAveragePooling2D, Dense, Input,Dropout,BatchNormalization\n",
    "from keras.models import load_model\n",
    "from sklearn import metrics\n",
    "from keras.callbacks import ReduceLROnPlateau,EarlyStopping\n",
    "from keras.optimizers import SGD\n",
    "from imblearn.over_sampling import SMOTE\n",
    "from imblearn.under_sampling import NearMiss\n",
    "from collections import Counter"
   ]
  },
  {
   "cell_type": "markdown",
   "id": "d246e1fa",
   "metadata": {},
   "source": [
    "## Data Preprocessing"
   ]
  },
  {
   "cell_type": "code",
   "execution_count": 111,
   "id": "b35250d0",
   "metadata": {},
   "outputs": [],
   "source": [
    "# helper function for loading the dataset of images\n",
    "def load_normal(norm_loc):\n",
    "    norm_files = np.array(os.listdir(norm_loc))\n",
    "    norm_labels = np.array(['normal']*len(norm_files))\n",
    "    \n",
    "    norm_images = []\n",
    "    for image in tqdm(norm_files):\n",
    "        image = cv2.imread(norm_loc + image)\n",
    "        image = cv2.resize(image, dsize=(180,180))\n",
    "        image = cv2.cvtColor(image, cv2.COLOR_BGR2GRAY)\n",
    "        norm_images.append(image)\n",
    "        \n",
    "    norm_images = np.array(norm_images)\n",
    "    \n",
    "    return norm_images, norm_labels\n",
    "def load_pneumonia(pneu_loc):\n",
    "    pneu_files = np.array(os.listdir(pneu_loc))\n",
    "    pneu_labels = np.array(['pneumonia']*len(pneu_files))\n",
    "    \n",
    "    pneu_images = []\n",
    "    for image in tqdm(pneu_files):\n",
    "        image = cv2.imread(pneu_loc + image)\n",
    "        image = cv2.resize(image, dsize=(180,180))\n",
    "        image = cv2.cvtColor(image, cv2.COLOR_BGR2GRAY)\n",
    "        pneu_images.append(image)\n",
    "        \n",
    "    pneu_images = np.array(pneu_images)\n",
    "    \n",
    "    return pneu_images, pneu_labels"
   ]
  },
  {
   "cell_type": "code",
   "execution_count": 113,
   "id": "b2a4bf31",
   "metadata": {
    "scrolled": false
   },
   "outputs": [
    {
     "name": "stderr",
     "output_type": "stream",
     "text": [
      "100%|██████████████████████████████████████████████████████████████████████████████| 1341/1341 [00:29<00:00, 44.93it/s]\n"
     ]
    }
   ],
   "source": [
    "# normal training \n",
    "norm_img, norm_labels = load_normal('/Users/Imaddin/Desktop/Computer science/Year 3/Sem 2/FYP/Pneumonia/chest_xray/train/NORMAL/')"
   ]
  },
  {
   "cell_type": "code",
   "execution_count": 114,
   "id": "fbd73e48",
   "metadata": {
    "scrolled": true
   },
   "outputs": [
    {
     "name": "stderr",
     "output_type": "stream",
     "text": [
      "100%|█████████████████████████████████████████████████████████████████████████████| 3875/3875 [00:32<00:00, 120.10it/s]\n"
     ]
    }
   ],
   "source": [
    "# pneumonia training\n",
    "pneu_img, pneu_labels = load_pneumonia('/Users/Imaddin/Desktop/Computer science/Year 3/Sem 2/FYP/Pneumonia/chest_xray/train/PNEUMONIA/')"
   ]
  },
  {
   "cell_type": "code",
   "execution_count": 389,
   "id": "20491784",
   "metadata": {},
   "outputs": [],
   "source": [
    "x_train = np.append(norm_img,pneu_img, axis=0)\n",
    "y_train = np.append(norm_labels, pneu_labels)"
   ]
  },
  {
   "cell_type": "code",
   "execution_count": 116,
   "id": "0e19c356",
   "metadata": {},
   "outputs": [
    {
     "name": "stderr",
     "output_type": "stream",
     "text": [
      "100%|████████████████████████████████████████████████████████████████████████████████| 234/234 [00:04<00:00, 52.95it/s]\n"
     ]
    }
   ],
   "source": [
    "# normal test\n",
    "norm_test_img, norm_test_labels = load_normal('/Users/Imaddin/Desktop/Computer science/Year 3/Sem 2/FYP/Pneumonia/chest_xray/test/NORMAL/')"
   ]
  },
  {
   "cell_type": "code",
   "execution_count": 117,
   "id": "7fcab4c9",
   "metadata": {},
   "outputs": [
    {
     "name": "stderr",
     "output_type": "stream",
     "text": [
      "100%|███████████████████████████████████████████████████████████████████████████████| 390/390 [00:03<00:00, 126.01it/s]\n"
     ]
    }
   ],
   "source": [
    "# pneumonia test\n",
    "pneu_test_img, pneu_test_labels = load_pneumonia('/Users/Imaddin/Desktop/Computer science/Year 3/Sem 2/FYP/Pneumonia/chest_xray/test/PNEUMONIA/')"
   ]
  },
  {
   "cell_type": "code",
   "execution_count": 390,
   "id": "bc2d934e",
   "metadata": {},
   "outputs": [],
   "source": [
    "x_test = np.append(norm_test_img,pneu_test_img, axis=0)\n",
    "y_test = np.append(norm_test_labels, pneu_test_labels)"
   ]
  },
  {
   "cell_type": "code",
   "execution_count": 119,
   "id": "e07aa418",
   "metadata": {
    "scrolled": true
   },
   "outputs": [
    {
     "name": "stderr",
     "output_type": "stream",
     "text": [
      "100%|████████████████████████████████████████████████████████████████████████████████████| 8/8 [00:00<00:00, 62.52it/s]\n"
     ]
    }
   ],
   "source": [
    "# normal val\n",
    "norm_val_img, norm_val_labels = load_normal('/Users/Imaddin/Desktop/Computer science/Year 3/Sem 2/FYP/Pneumonia/chest_xray/val/NORMAL/')"
   ]
  },
  {
   "cell_type": "code",
   "execution_count": 120,
   "id": "73d65bae",
   "metadata": {
    "scrolled": false
   },
   "outputs": [
    {
     "name": "stderr",
     "output_type": "stream",
     "text": [
      "100%|███████████████████████████████████████████████████████████████████████████████████| 8/8 [00:00<00:00, 124.97it/s]\n"
     ]
    }
   ],
   "source": [
    "# pneumonia val\n",
    "pneu_val_img, pneu_val_labels = load_pneumonia('/Users/Imaddin/Desktop/Computer science/Year 3/Sem 2/FYP/Pneumonia/chest_xray/val/PNEUMONIA/')"
   ]
  },
  {
   "cell_type": "code",
   "execution_count": 391,
   "id": "27508c87",
   "metadata": {},
   "outputs": [],
   "source": [
    "x_val = np.append(norm_val_img,pneu_val_img, axis=0)\n",
    "y_val = np.append(norm_val_labels, pneu_val_labels)"
   ]
  },
  {
   "cell_type": "markdown",
   "id": "0f35da85",
   "metadata": {},
   "source": [
    "From the counter below, we can see that there is a class imbalance between the 2 classes in the training dataset."
   ]
  },
  {
   "cell_type": "code",
   "execution_count": 388,
   "id": "636276dc",
   "metadata": {},
   "outputs": [
    {
     "name": "stdout",
     "output_type": "stream",
     "text": [
      "Counter({'pneumonia': 3875, 'normal': 1341})\n"
     ]
    }
   ],
   "source": [
    "print(Counter(y_train))"
   ]
  },
  {
   "cell_type": "markdown",
   "id": "053e7b49",
   "metadata": {},
   "source": [
    "### Undersampling \n",
    "To tackle the problem of class imbalance, undersampling is used to equalise the number of both classes. "
   ]
  },
  {
   "cell_type": "code",
   "execution_count": 392,
   "id": "69d7ac8a",
   "metadata": {},
   "outputs": [],
   "source": [
    "# reshaping is needed before undersampling the dataset\n",
    "x_train = x_train.reshape(len(x_train),x_train.shape[1]*x_train.shape[2])\n",
    "x_test = x_test.reshape(len(x_test),x_test.shape[1]*x_test.shape[2])\n",
    "x_val = x_val.reshape(len(x_val),x_val.shape[1]*x_val.shape[2])"
   ]
  },
  {
   "cell_type": "code",
   "execution_count": 393,
   "id": "73cadf11",
   "metadata": {},
   "outputs": [],
   "source": [
    "#undersample using NearMiss version 1\n",
    "Counter(y_train)\n",
    "undersampling = NearMiss(version=1)\n",
    "x_train,y_train = undersampling.fit_resample(x_train,y_train)"
   ]
  },
  {
   "cell_type": "markdown",
   "id": "ac809ad8",
   "metadata": {},
   "source": [
    "With undersampling, it takes the class with higher number of data and reduces it to the same number of data in the class with lesser data. As seen below, the number of pneumonia class is the same as the normal class."
   ]
  },
  {
   "cell_type": "code",
   "execution_count": 394,
   "id": "6f611ae3",
   "metadata": {},
   "outputs": [
    {
     "name": "stdout",
     "output_type": "stream",
     "text": [
      "Counter({'normal': 1341, 'pneumonia': 1341})\n"
     ]
    }
   ],
   "source": [
    "print(Counter(y_train))"
   ]
  },
  {
   "cell_type": "markdown",
   "id": "6a34a213",
   "metadata": {},
   "source": [
    "### Label Binarizer\n",
    "Label binarizer is needed for preprocessing the labels. Since the labels are in string format, i.e. normal and pneumonia, label binarizer helps to convert them into numeric format so that it can be used in the neural network. "
   ]
  },
  {
   "cell_type": "code",
   "execution_count": 395,
   "id": "f80ffbe0",
   "metadata": {},
   "outputs": [],
   "source": [
    "# Label preprocessing\n",
    "LB = LabelBinarizer()\n",
    "y_train_LB = LB.fit_transform(y_train)\n",
    "y_test_LB = LB.transform(y_test)\n",
    "y_val_LB = LB.transform(y_val)"
   ]
  },
  {
   "cell_type": "code",
   "execution_count": 396,
   "id": "9c2ac19a",
   "metadata": {},
   "outputs": [],
   "source": [
    "# reshaping to fit neural network\n",
    "x_train = x_train.reshape(-1,180,180,1)\n",
    "x_test = x_test.reshape(-1,180,180,1)\n",
    "x_val = x_val.reshape(-1,180,180,1)"
   ]
  },
  {
   "cell_type": "markdown",
   "id": "3ef435a6",
   "metadata": {},
   "source": [
    "### Artifical Data Augmentation\n",
    "This helps to artificially increase the number of the data in the dataset. This is done to prevent overfitting that can occur due to smaller amounts of data."
   ]
  },
  {
   "cell_type": "code",
   "execution_count": 398,
   "id": "06f2e935",
   "metadata": {},
   "outputs": [],
   "source": [
    "# data augmentation\n",
    "augData = ImageDataGenerator(\n",
    "    rotation_range = 10,\n",
    "    zoom_range = 0.1,\n",
    "    width_shift_range = 0.1,\n",
    "    height_shift_range = 0.1,\n",
    "    horizontal_flip = True\n",
    ")"
   ]
  },
  {
   "cell_type": "code",
   "execution_count": 399,
   "id": "689b2bce",
   "metadata": {},
   "outputs": [],
   "source": [
    "augData.fit(x_train)\n",
    "train = augData.flow(x_train,y_train_LB, batch_size=32)"
   ]
  },
  {
   "cell_type": "markdown",
   "id": "63d755cd",
   "metadata": {},
   "source": [
    "## Baseline Model\n",
    "The baseline model is a naive bayes model"
   ]
  },
  {
   "cell_type": "code",
   "execution_count": 413,
   "id": "ee76c6ac",
   "metadata": {},
   "outputs": [],
   "source": [
    "# data preprocessing\n",
    "# reshaping to fit Naive Bayes Model\n",
    "x_train = x_train.reshape(len(x_train),x_train.shape[1]*x_train.shape[2])\n",
    "x_test = x_test.reshape(len(x_test),x_test.shape[1]*x_test.shape[2])\n",
    "x_val = x_val.reshape(len(x_val),x_val.shape[1]*x_val.shape[2])"
   ]
  },
  {
   "cell_type": "code",
   "execution_count": 415,
   "id": "1c8eca30",
   "metadata": {},
   "outputs": [
    {
     "name": "stderr",
     "output_type": "stream",
     "text": [
      "C:\\Users\\Imaddin\\anaconda3\\lib\\site-packages\\sklearn\\utils\\validation.py:1184: DataConversionWarning: A column-vector y was passed when a 1d array was expected. Please change the shape of y to (n_samples, ), for example using ravel().\n",
      "  y = column_or_1d(y, warn=True)\n"
     ]
    },
    {
     "data": {
      "text/html": [
       "<style>#sk-container-id-2 {color: black;}#sk-container-id-2 pre{padding: 0;}#sk-container-id-2 div.sk-toggleable {background-color: white;}#sk-container-id-2 label.sk-toggleable__label {cursor: pointer;display: block;width: 100%;margin-bottom: 0;padding: 0.3em;box-sizing: border-box;text-align: center;}#sk-container-id-2 label.sk-toggleable__label-arrow:before {content: \"▸\";float: left;margin-right: 0.25em;color: #696969;}#sk-container-id-2 label.sk-toggleable__label-arrow:hover:before {color: black;}#sk-container-id-2 div.sk-estimator:hover label.sk-toggleable__label-arrow:before {color: black;}#sk-container-id-2 div.sk-toggleable__content {max-height: 0;max-width: 0;overflow: hidden;text-align: left;background-color: #f0f8ff;}#sk-container-id-2 div.sk-toggleable__content pre {margin: 0.2em;color: black;border-radius: 0.25em;background-color: #f0f8ff;}#sk-container-id-2 input.sk-toggleable__control:checked~div.sk-toggleable__content {max-height: 200px;max-width: 100%;overflow: auto;}#sk-container-id-2 input.sk-toggleable__control:checked~label.sk-toggleable__label-arrow:before {content: \"▾\";}#sk-container-id-2 div.sk-estimator input.sk-toggleable__control:checked~label.sk-toggleable__label {background-color: #d4ebff;}#sk-container-id-2 div.sk-label input.sk-toggleable__control:checked~label.sk-toggleable__label {background-color: #d4ebff;}#sk-container-id-2 input.sk-hidden--visually {border: 0;clip: rect(1px 1px 1px 1px);clip: rect(1px, 1px, 1px, 1px);height: 1px;margin: -1px;overflow: hidden;padding: 0;position: absolute;width: 1px;}#sk-container-id-2 div.sk-estimator {font-family: monospace;background-color: #f0f8ff;border: 1px dotted black;border-radius: 0.25em;box-sizing: border-box;margin-bottom: 0.5em;}#sk-container-id-2 div.sk-estimator:hover {background-color: #d4ebff;}#sk-container-id-2 div.sk-parallel-item::after {content: \"\";width: 100%;border-bottom: 1px solid gray;flex-grow: 1;}#sk-container-id-2 div.sk-label:hover label.sk-toggleable__label {background-color: #d4ebff;}#sk-container-id-2 div.sk-serial::before {content: \"\";position: absolute;border-left: 1px solid gray;box-sizing: border-box;top: 0;bottom: 0;left: 50%;z-index: 0;}#sk-container-id-2 div.sk-serial {display: flex;flex-direction: column;align-items: center;background-color: white;padding-right: 0.2em;padding-left: 0.2em;position: relative;}#sk-container-id-2 div.sk-item {position: relative;z-index: 1;}#sk-container-id-2 div.sk-parallel {display: flex;align-items: stretch;justify-content: center;background-color: white;position: relative;}#sk-container-id-2 div.sk-item::before, #sk-container-id-2 div.sk-parallel-item::before {content: \"\";position: absolute;border-left: 1px solid gray;box-sizing: border-box;top: 0;bottom: 0;left: 50%;z-index: -1;}#sk-container-id-2 div.sk-parallel-item {display: flex;flex-direction: column;z-index: 1;position: relative;background-color: white;}#sk-container-id-2 div.sk-parallel-item:first-child::after {align-self: flex-end;width: 50%;}#sk-container-id-2 div.sk-parallel-item:last-child::after {align-self: flex-start;width: 50%;}#sk-container-id-2 div.sk-parallel-item:only-child::after {width: 0;}#sk-container-id-2 div.sk-dashed-wrapped {border: 1px dashed gray;margin: 0 0.4em 0.5em 0.4em;box-sizing: border-box;padding-bottom: 0.4em;background-color: white;}#sk-container-id-2 div.sk-label label {font-family: monospace;font-weight: bold;display: inline-block;line-height: 1.2em;}#sk-container-id-2 div.sk-label-container {text-align: center;}#sk-container-id-2 div.sk-container {/* jupyter's `normalize.less` sets `[hidden] { display: none; }` but bootstrap.min.css set `[hidden] { display: none !important; }` so we also need the `!important` here to be able to override the default hidden behavior on the sphinx rendered scikit-learn.org. See: https://github.com/scikit-learn/scikit-learn/issues/21755 */display: inline-block !important;position: relative;}#sk-container-id-2 div.sk-text-repr-fallback {display: none;}</style><div id=\"sk-container-id-2\" class=\"sk-top-container\"><div class=\"sk-text-repr-fallback\"><pre>GaussianNB()</pre><b>In a Jupyter environment, please rerun this cell to show the HTML representation or trust the notebook. <br />On GitHub, the HTML representation is unable to render, please try loading this page with nbviewer.org.</b></div><div class=\"sk-container\" hidden><div class=\"sk-item\"><div class=\"sk-estimator sk-toggleable\"><input class=\"sk-toggleable__control sk-hidden--visually\" id=\"sk-estimator-id-2\" type=\"checkbox\" checked><label for=\"sk-estimator-id-2\" class=\"sk-toggleable__label sk-toggleable__label-arrow\">GaussianNB</label><div class=\"sk-toggleable__content\"><pre>GaussianNB()</pre></div></div></div></div></div>"
      ],
      "text/plain": [
       "GaussianNB()"
      ]
     },
     "execution_count": 415,
     "metadata": {},
     "output_type": "execute_result"
    }
   ],
   "source": [
    "# Baseline model\n",
    "from sklearn.naive_bayes import GaussianNB\n",
    "nb = GaussianNB()\n",
    "nb.fit(x_train,y_train_LB)"
   ]
  },
  {
   "cell_type": "code",
   "execution_count": 420,
   "id": "421fb778",
   "metadata": {},
   "outputs": [
    {
     "name": "stdout",
     "output_type": "stream",
     "text": [
      "              precision    recall  f1-score   support\n",
      "\n",
      "      normal       0.74      0.70      0.72       244\n",
      "   pneumonia       0.82      0.84      0.83       380\n",
      "\n",
      "    accuracy                           0.79       624\n",
      "   macro avg       0.78      0.77      0.77       624\n",
      "weighted avg       0.78      0.79      0.78       624\n",
      "\n"
     ]
    },
    {
     "name": "stderr",
     "output_type": "stream",
     "text": [
      "C:\\Users\\Imaddin\\anaconda3\\lib\\site-packages\\sklearn\\metrics\\_classification.py:226: FutureWarning: elementwise comparison failed; returning scalar instead, but in the future will perform elementwise comparison\n",
      "  score = y_true == y_pred\n"
     ]
    }
   ],
   "source": [
    "y_pred_NB = nb.predict(x_test)\n",
    "y_pred_NB = LB.inverse_transform(y_pred_NB)\n",
    "accuracy_score(y_pred_NB,y_test_LB)\n",
    "print(classification_report(y_pred_NB, y_test))"
   ]
  },
  {
   "cell_type": "code",
   "execution_count": 421,
   "id": "8fbc7d4b",
   "metadata": {},
   "outputs": [
    {
     "data": {
      "text/plain": [
       "<Figure size 576x432 with 0 Axes>"
      ]
     },
     "metadata": {},
     "output_type": "display_data"
    },
    {
     "data": {
      "image/png": "[encoded data removed]",
      "text/plain": [
       "<Figure size 432x288 with 2 Axes>"
      ]
     },
     "metadata": {
      "needs_background": "light"
     },
     "output_type": "display_data"
    }
   ],
   "source": [
    "conf_matNB=(confusion_matrix(y_test, y_pred_NB))\n",
    "plt.figure(figsize=(8,6))\n",
    "display = metrics.ConfusionMatrixDisplay(confusion_matrix = conf_matNB, display_labels=LB.classes_)\n",
    "display.plot()\n",
    "plt.show()"
   ]
  },
  {
   "cell_type": "markdown",
   "id": "ae3de3d5",
   "metadata": {},
   "source": [
    "## CNN Model"
   ]
  },
  {
   "cell_type": "code",
   "execution_count": 400,
   "id": "96b17331",
   "metadata": {
    "scrolled": true
   },
   "outputs": [
    {
     "name": "stdout",
     "output_type": "stream",
     "text": [
      "Model: \"sequential_75\"\n",
      "_________________________________________________________________\n",
      " Layer (type)                Output Shape              Param #   \n",
      "=================================================================\n",
      " conv2d_254 (Conv2D)         (None, 180, 180, 32)      160       \n",
      "                                                                 \n",
      " batch_normalization_254 (Ba  (None, 180, 180, 32)     128       \n",
      " tchNormalization)                                               \n",
      "                                                                 \n",
      " max_pooling2d_250 (MaxPooli  (None, 90, 90, 32)       0         \n",
      " ng2D)                                                           \n",
      "                                                                 \n",
      " conv2d_255 (Conv2D)         (None, 90, 90, 32)        4128      \n",
      "                                                                 \n",
      " batch_normalization_255 (Ba  (None, 90, 90, 32)       128       \n",
      " tchNormalization)                                               \n",
      "                                                                 \n",
      " max_pooling2d_251 (MaxPooli  (None, 45, 45, 32)       0         \n",
      " ng2D)                                                           \n",
      "                                                                 \n",
      " conv2d_256 (Conv2D)         (None, 45, 45, 32)        4128      \n",
      "                                                                 \n",
      " batch_normalization_256 (Ba  (None, 45, 45, 32)       128       \n",
      " tchNormalization)                                               \n",
      "                                                                 \n",
      " max_pooling2d_252 (MaxPooli  (None, 22, 22, 32)       0         \n",
      " ng2D)                                                           \n",
      "                                                                 \n",
      " conv2d_257 (Conv2D)         (None, 22, 22, 32)        4128      \n",
      "                                                                 \n",
      " batch_normalization_257 (Ba  (None, 22, 22, 32)       128       \n",
      " tchNormalization)                                               \n",
      "                                                                 \n",
      " max_pooling2d_253 (MaxPooli  (None, 22, 22, 32)       0         \n",
      " ng2D)                                                           \n",
      "                                                                 \n",
      " dropout_75 (Dropout)        (None, 22, 22, 32)        0         \n",
      "                                                                 \n",
      " flatten_75 (Flatten)        (None, 15488)             0         \n",
      "                                                                 \n",
      " dense_150 (Dense)           (None, 32)                495648    \n",
      "                                                                 \n",
      " dense_151 (Dense)           (None, 1)                 33        \n",
      "                                                                 \n",
      "=================================================================\n",
      "Total params: 508,737\n",
      "Trainable params: 508,481\n",
      "Non-trainable params: 256\n",
      "_________________________________________________________________\n",
      "Epoch 1/30\n",
      "41/41 [==============================] - 41s 947ms/step - loss: 0.3864 - acc: 0.8583 - val_loss: 6.4739 - val_acc: 0.5000 - lr: 0.0010\n",
      "Epoch 2/30\n",
      "41/41 [==============================] - 38s 912ms/step - loss: 0.2009 - acc: 0.9211 - val_loss: 1.0075 - val_acc: 0.6250 - lr: 0.0010\n",
      "Epoch 3/30\n",
      "41/41 [==============================] - 38s 924ms/step - loss: 0.2432 - acc: 0.8971 - val_loss: 0.4139 - val_acc: 0.7500 - lr: 0.0010\n",
      "Epoch 4/30\n",
      "41/41 [==============================] - 38s 916ms/step - loss: 0.2462 - acc: 0.9223 - val_loss: 0.7211 - val_acc: 0.5625 - lr: 0.0010\n",
      "Epoch 5/30\n",
      "41/41 [==============================] - 38s 913ms/step - loss: 0.2204 - acc: 0.9215 - val_loss: 0.7467 - val_acc: 0.6875 - lr: 0.0010\n",
      "Epoch 6/30\n",
      "41/41 [==============================] - 38s 913ms/step - loss: 0.2076 - acc: 0.9139 - val_loss: 2.3856 - val_acc: 0.5625 - lr: 0.0010\n",
      "Epoch 7/30\n",
      "41/41 [==============================] - 38s 914ms/step - loss: 0.2023 - acc: 0.9253 - val_loss: 0.3106 - val_acc: 0.8125 - lr: 0.0010\n",
      "Epoch 8/30\n",
      "41/41 [==============================] - 38s 912ms/step - loss: 0.1828 - acc: 0.9276 - val_loss: 2.0732 - val_acc: 0.5625 - lr: 0.0010\n",
      "Epoch 9/30\n",
      "41/41 [==============================] - 37s 908ms/step - loss: 0.1932 - acc: 0.9418 - val_loss: 0.3163 - val_acc: 0.8750 - lr: 0.0010\n",
      "Epoch 10/30\n",
      "41/41 [==============================] - 38s 910ms/step - loss: 0.1809 - acc: 0.9257 - val_loss: 0.4826 - val_acc: 0.6875 - lr: 0.0010\n",
      "Epoch 11/30\n",
      "41/41 [==============================] - 38s 920ms/step - loss: 0.1641 - acc: 0.9398 - val_loss: 0.7045 - val_acc: 0.6875 - lr: 0.0010\n",
      "Epoch 12/30\n",
      "41/41 [==============================] - 38s 915ms/step - loss: 0.1564 - acc: 0.9433 - val_loss: 0.3879 - val_acc: 0.7500 - lr: 0.0010\n",
      "Epoch 13/30\n",
      "41/41 [==============================] - 38s 918ms/step - loss: 0.1224 - acc: 0.9520 - val_loss: 0.3555 - val_acc: 0.8750 - lr: 0.0010\n",
      "Epoch 14/30\n",
      "41/41 [==============================] - ETA: 0s - loss: 0.1629 - acc: 0.9395\n",
      "Epoch 14: ReduceLROnPlateau reducing learning rate to 0.00010000000474974513.\n",
      "41/41 [==============================] - 38s 915ms/step - loss: 0.1629 - acc: 0.9395 - val_loss: 0.4072 - val_acc: 0.8125 - lr: 0.0010\n",
      "Epoch 15/30\n",
      "41/41 [==============================] - 38s 918ms/step - loss: 0.1441 - acc: 0.9466 - val_loss: 0.3013 - val_acc: 0.8125 - lr: 1.0000e-04\n",
      "Epoch 16/30\n",
      "41/41 [==============================] - 38s 917ms/step - loss: 0.1266 - acc: 0.9564 - val_loss: 0.3197 - val_acc: 0.9375 - lr: 1.0000e-04\n",
      "Epoch 17/30\n",
      "41/41 [==============================] - 38s 913ms/step - loss: 0.1227 - acc: 0.9548 - val_loss: 0.3387 - val_acc: 0.9375 - lr: 1.0000e-04\n",
      "Epoch 18/30\n",
      "41/41 [==============================] - 38s 917ms/step - loss: 0.1287 - acc: 0.9535 - val_loss: 0.3597 - val_acc: 0.9375 - lr: 1.0000e-04\n",
      "Epoch 19/30\n",
      "41/41 [==============================] - 38s 921ms/step - loss: 0.1128 - acc: 0.9594 - val_loss: 0.3431 - val_acc: 0.9375 - lr: 1.0000e-04\n",
      "Epoch 20/30\n",
      "41/41 [==============================] - 38s 923ms/step - loss: 0.1312 - acc: 0.9497 - val_loss: 0.4139 - val_acc: 0.8750 - lr: 1.0000e-04\n",
      "Epoch 21/30\n",
      "41/41 [==============================] - ETA: 0s - loss: 0.1066 - acc: 0.9648\n",
      "Epoch 21: ReduceLROnPlateau reducing learning rate to 1.0000000474974514e-05.\n",
      "41/41 [==============================] - 38s 921ms/step - loss: 0.1066 - acc: 0.9648 - val_loss: 0.2175 - val_acc: 0.9375 - lr: 1.0000e-04\n",
      "Epoch 22/30\n",
      "41/41 [==============================] - 38s 931ms/step - loss: 0.1053 - acc: 0.9588 - val_loss: 0.2468 - val_acc: 0.9375 - lr: 1.0000e-05\n",
      "Epoch 23/30\n",
      "41/41 [==============================] - 38s 932ms/step - loss: 0.1285 - acc: 0.9550 - val_loss: 0.2665 - val_acc: 0.9375 - lr: 1.0000e-05\n",
      "Epoch 24/30\n",
      "41/41 [==============================] - 38s 922ms/step - loss: 0.1156 - acc: 0.9525 - val_loss: 0.2943 - val_acc: 0.9375 - lr: 1.0000e-05\n",
      "Epoch 25/30\n",
      "41/41 [==============================] - 38s 924ms/step - loss: 0.1212 - acc: 0.9558 - val_loss: 0.2769 - val_acc: 0.9375 - lr: 1.0000e-05\n",
      "Epoch 26/30\n",
      "41/41 [==============================] - ETA: 0s - loss: 0.1354 - acc: 0.9487\n",
      "Epoch 26: ReduceLROnPlateau reducing learning rate to 1e-05.\n",
      "41/41 [==============================] - 38s 911ms/step - loss: 0.1354 - acc: 0.9487 - val_loss: 0.2887 - val_acc: 0.9375 - lr: 1.0000e-05\n",
      "Epoch 27/30\n",
      "41/41 [==============================] - 38s 914ms/step - loss: 0.1145 - acc: 0.9587 - val_loss: 0.2833 - val_acc: 0.9375 - lr: 1.0000e-05\n",
      "Epoch 28/30\n",
      "41/41 [==============================] - 37s 904ms/step - loss: 0.1201 - acc: 0.9573 - val_loss: 0.2770 - val_acc: 0.9375 - lr: 1.0000e-05\n",
      "Epoch 29/30\n",
      "41/41 [==============================] - 38s 923ms/step - loss: 0.1094 - acc: 0.9541 - val_loss: 0.2809 - val_acc: 0.9375 - lr: 1.0000e-05\n",
      "Epoch 30/30\n",
      "41/41 [==============================] - 38s 916ms/step - loss: 0.1155 - acc: 0.9657 - val_loss: 0.2657 - val_acc: 0.9375 - lr: 1.0000e-05\n"
     ]
    }
   ],
   "source": [
    "# CNN model\n",
    "opt = keras.optimizers.Adam(learning_rate=0.001)\n",
    "lr_redux = ReduceLROnPlateau(monitor='val_acc', patience = 5,\n",
    "                            verbose =1, factor=0.1, min_lr =0.00001)\n",
    "es = EarlyStopping(monitor='val_loss', verbose=1,patience = 10)\n",
    "\n",
    "model = Sequential([\n",
    "    Conv2D(32,(2,2), activation='relu',\n",
    "          padding='same', input_shape=(180,180,1)),\n",
    "    BatchNormalization(),\n",
    "    MaxPool2D(2,2),\n",
    "    \n",
    "    Conv2D(32,(2,2),activation='relu', padding='same'),\n",
    "    BatchNormalization(),\n",
    "    MaxPool2D(2,2),\n",
    "\n",
    "    Conv2D(32,(2,2),activation='relu', padding='same'),\n",
    "    BatchNormalization(),\n",
    "    MaxPool2D(2,2),\n",
    "    \n",
    "    Conv2D(32,(2,2),activation='relu', padding='same'),\n",
    "    BatchNormalization(),\n",
    "    MaxPool2D(1,1),\n",
    "    \n",
    "    Dropout(0.2),\n",
    "    Flatten(),\n",
    "    Dense(32,activation='relu'),\n",
    "    \n",
    "    Dense(1,activation='sigmoid')\n",
    "])\n",
    "model.compile(optimizer=opt, loss='binary_crossentropy', metrics=['acc'])\n",
    "model.summary() \n",
    "model_history=model.fit(train,\n",
    "                       epochs=30,\n",
    "                       steps_per_epoch= 2682//64,\n",
    "                       callbacks = [es,lr_redux],\n",
    "                       shuffle = True,\n",
    "                       validation_data=(x_val,y_val_LB))"
   ]
  },
  {
   "cell_type": "code",
   "execution_count": 401,
   "id": "1bf42abe",
   "metadata": {},
   "outputs": [
    {
     "name": "stdout",
     "output_type": "stream",
     "text": [
      "20/20 [==============================] - 5s 216ms/step\n",
      "20/20 [==============================] - 4s 214ms/step - loss: 0.5074 - acc: 0.8702\n",
      "              precision    recall  f1-score   support\n",
      "\n",
      "      normal       0.80      0.88      0.84       234\n",
      "   pneumonia       0.92      0.87      0.89       390\n",
      "\n",
      "    accuracy                           0.87       624\n",
      "   macro avg       0.86      0.87      0.86       624\n",
      "weighted avg       0.87      0.87      0.87       624\n",
      "\n"
     ]
    }
   ],
   "source": [
    "model_y_pred_LB = model.predict(x_test)\n",
    "model_y_pred = LB.inverse_transform(model_y_pred_LB)\n",
    "model.evaluate(x_test,y_test_LB)\n",
    "print(classification_report(y_test,model_y_pred))"
   ]
  },
  {
   "cell_type": "code",
   "execution_count": 402,
   "id": "bb88ab66",
   "metadata": {
    "scrolled": true
   },
   "outputs": [
    {
     "data": {
      "image/png": "[encoded data removed]",
      "text/plain": [
       "<Figure size 432x288 with 1 Axes>"
      ]
     },
     "metadata": {
      "needs_background": "light"
     },
     "output_type": "display_data"
    }
   ],
   "source": [
    "#plot graph\n",
    "plt.plot(model_history.history['acc'],label='Training Accuracy')\n",
    "plt.plot(model_history.history['val_acc'],label='Validation Accuracy')\n",
    "\n",
    "plt.xlabel('Epoch')\n",
    "plt.ylabel('Accuracy')\n",
    "plt.legend()\n",
    "plt.show()"
   ]
  },
  {
   "cell_type": "code",
   "execution_count": 403,
   "id": "a3243631",
   "metadata": {
    "scrolled": true
   },
   "outputs": [
    {
     "data": {
      "image/png": "[encoded data removed]",
      "text/plain": [
       "<Figure size 432x288 with 1 Axes>"
      ]
     },
     "metadata": {
      "needs_background": "light"
     },
     "output_type": "display_data"
    }
   ],
   "source": [
    "#plot graph\n",
    "plt.plot(model_history.history['loss'],label='Training Loss')\n",
    "plt.plot(model_history.history['val_loss'],label='Validation Loss')\n",
    "\n",
    "plt.xlabel('Epoch')\n",
    "plt.ylabel('Loss')\n",
    "plt.legend()\n",
    "plt.show()"
   ]
  },
  {
   "cell_type": "code",
   "execution_count": 404,
   "id": "e023fb3e",
   "metadata": {},
   "outputs": [
    {
     "data": {
      "text/plain": [
       "<Figure size 576x432 with 0 Axes>"
      ]
     },
     "metadata": {},
     "output_type": "display_data"
    },
    {
     "data": {
      "image/png": "[encoded data removed]",
      "text/plain": [
       "<Figure size 432x288 with 2 Axes>"
      ]
     },
     "metadata": {
      "needs_background": "light"
     },
     "output_type": "display_data"
    }
   ],
   "source": [
    "conf_mat=(confusion_matrix(y_test, model_y_pred))\n",
    "plt.figure(figsize=(8,6))\n",
    "display = metrics.ConfusionMatrixDisplay(confusion_matrix = conf_mat, display_labels=LB.classes_)\n",
    "display.plot()\n",
    "plt.show()"
   ]
  }
 ],
 "metadata": {
  "kernelspec": {
   "display_name": "Python 3 (ipykernel)",
   "language": "python",
   "name": "python3"
  },
  "language_info": {
   "codemirror_mode": {
    "name": "ipython",
    "version": 3
   },
   "file_extension": ".py",
   "mimetype": "text/x-python",
   "name": "python",
   "nbconvert_exporter": "python",
   "pygments_lexer": "ipython3",
   "version": "3.9.7"
  }
 },
 "nbformat": 4,
 "nbformat_minor": 5
}
